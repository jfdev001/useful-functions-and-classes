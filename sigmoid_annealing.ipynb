{
 "cells": [
  {
   "cell_type": "code",
   "execution_count": 1,
   "metadata": {},
   "outputs": [],
   "source": [
    "# Example of scaling a number of iterations (e.g., ML iter)\n",
    "# to the expected range for sigmoid annealing behavior\n",
    "\n",
    "import numpy as np\n",
    "from tensorflow.nn import sigmoid\n",
    "import matplotlib.pyplot as plt"
   ]
  },
  {
   "cell_type": "code",
   "execution_count": 2,
   "metadata": {},
   "outputs": [],
   "source": [
    "def min_max_scale(cur_val, min_val, max_val, lower_bound=0, upper_bound=1):\n",
    "    \"\"\"Min-max scale current value to desired range.\n",
    "    \n",
    "    https://en.wikipedia.org/wiki/Feature_scaling\n",
    "    \"\"\"\n",
    "\n",
    "    return lower_bound + ((cur_val - min_val)*(upper_bound-lower_bound))/(max_val - min_val)"
   ]
  },
  {
   "cell_type": "code",
   "execution_count": 3,
   "metadata": {},
   "outputs": [
    {
     "name": "stdout",
     "output_type": "stream",
     "text": [
      "(100001,)\n",
      "[0.00000e+00 5.00000e-01 1.00000e+00 ... 4.99990e+04 4.99995e+04\n",
      " 5.00000e+04]\n"
     ]
    }
   ],
   "source": [
    "symmetric_bound = 50e3\n",
    "step = 0.5\n",
    "x = np.arange(symmetric_bound + step, step=step)\n",
    "print(x.shape)\n",
    "print(x)"
   ]
  },
  {
   "cell_type": "code",
   "execution_count": 4,
   "metadata": {},
   "outputs": [],
   "source": [
    "# Scale to range of -6 to 6 since this seems to be ideal for \n",
    "# sigmoid range\n",
    "min_max_scaled_x = np.apply_along_axis(\n",
    "    min_max_scale, \n",
    "    arr=x, \n",
    "    axis=0,\n",
    "    min_val=np.amin(x), \n",
    "    max_val=np.amax(x), \n",
    "    lower_bound=-6, \n",
    "    upper_bound=6)"
   ]
  },
  {
   "cell_type": "code",
   "execution_count": 5,
   "metadata": {},
   "outputs": [],
   "source": [
    "y = sigmoid(x)\n",
    "\n",
    "# https://stackoverflow.com/questions/8036878/function-of-numpy-array-with-if-statement\n",
    "# Convert to negative\n",
    "x_half_neg = np.choose(x < symmetric_bound/2, [x, -1*x])\n",
    "\n",
    "# Set range to be in 6\n",
    "y_scaled = sigmoid(min_max_scaled_x)"
   ]
  },
  {
   "cell_type": "code",
   "execution_count": 6,
   "metadata": {},
   "outputs": [
    {
     "data": {
      "text/plain": [
       "[<matplotlib.lines.Line2D at 0x25c87da47c0>]"
      ]
     },
     "execution_count": 6,
     "metadata": {},
     "output_type": "execute_result"
    },
    {
     "data": {
      "image/png": "[encoded data removed]",
      "text/plain": [
       "<Figure size 432x288 with 1 Axes>"
      ]
     },
     "metadata": {
      "needs_background": "light"
     },
     "output_type": "display_data"
    }
   ],
   "source": [
    "plt.plot(x, y_scaled)"
   ]
  },
  {
   "cell_type": "code",
   "execution_count": 7,
   "metadata": {},
   "outputs": [],
   "source": [
    "# In order to make the sigmoid shape, make ~1/2 the iterations (x)\n",
    "# array negative and scale each value by the maximum value of the array\n",
    "# (i.e., symmetric bound)"
   ]
  },
  {
   "cell_type": "code",
   "execution_count": 8,
   "metadata": {},
   "outputs": [
    {
     "data": {
      "text/plain": [
       "[<matplotlib.lines.Line2D at 0x25c8faecdc0>]"
      ]
     },
     "execution_count": 8,
     "metadata": {},
     "output_type": "execute_result"
    },
    {
     "data": {
      "image/png": "[encoded data removed]",
      "text/plain": [
       "<Figure size 432x288 with 1 Axes>"
      ]
     },
     "metadata": {
      "needs_background": "light"
     },
     "output_type": "display_data"
    }
   ],
   "source": [
    "plt.plot(x, y)"
   ]
  },
  {
   "cell_type": "code",
   "execution_count": null,
   "metadata": {},
   "outputs": [],
   "source": []
  }
 ],
 "metadata": {
  "interpreter": {
   "hash": "07f0aceed467d0cbae7569fecdfaec78063cba8e23481668ef588a8de6eba6e0"
  },
  "kernelspec": {
   "display_name": "Python 3.9.6 64-bit ('blue-mars': conda)",
   "language": "python",
   "name": "python3"
  },
  "language_info": {
   "codemirror_mode": {
    "name": "ipython",
    "version": 3
   },
   "file_extension": ".py",
   "mimetype": "text/x-python",
   "name": "python",
   "nbconvert_exporter": "python",
   "pygments_lexer": "ipython3",
   "version": "3.9.6"
  },
  "orig_nbformat": 4
 },
 "nbformat": 4,
 "nbformat_minor": 2
}
